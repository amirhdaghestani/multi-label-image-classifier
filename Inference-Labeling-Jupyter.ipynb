{
 "cells": [
  {
   "cell_type": "markdown",
   "metadata": {},
   "source": [
    "# Multi-Label evaluator\n",
    "\n",
    "## Import libraries"
   ]
  },
  {
   "cell_type": "code",
   "execution_count": null,
   "metadata": {},
   "outputs": [],
   "source": [
    "# Basic libraries\n",
    "import numpy as np\n",
    "import cv2\n",
    "import json\n",
    "import matplotlib.pyplot as plt\n",
    "\n",
    "# Keras basic libraries\n",
    "from keras import backend\n",
    "from keras import Model\n",
    "from keras.models import load_model\n",
    "from keras.applications import inception_resnet_v2"
   ]
  },
  {
   "cell_type": "markdown",
   "metadata": {},
   "source": [
    "## Define Input Parameters and Functions"
   ]
  },
  {
   "cell_type": "code",
   "execution_count": null,
   "metadata": {},
   "outputs": [],
   "source": [
    "# Defining parameters\n",
    "INPUT_WIDTH = 299\n",
    "INPUT_HEIGHT = 299\n",
    "INPUT_SIZE = ( INPUT_WIDTH, INPUT_HEIGHT )\n",
    "INPUT_SHAPE = ( INPUT_WIDTH, INPUT_HEIGHT, 3 )\n",
    "\n",
    "# Defining our necessary functions\n",
    "\n",
    "# Function to decode features from one-hot code\n",
    "def onehot2features( one_hot ):\n",
    "    one_hot = np.round( one_hot )\n",
    "    y = []\n",
    "    for index, value in enumerate( one_hot ):\n",
    "        if( value == 1 ):\n",
    "            y.append( index + 1 )\n",
    "    return y\n",
    "\n",
    "# F2-score function for accuracy metric\n",
    "def fbeta(y_true, y_pred, beta=2):\n",
    "\n",
    "  y_pred = backend.clip(y_pred, 0, 1)\n",
    "\n",
    "  tp = backend.sum(backend.round(backend.clip(y_true * y_pred, 0, 1)), axis=1)\n",
    "  fp = backend.sum(backend.round(backend.clip(y_pred - y_true, 0, 1)), axis=1)\n",
    "  fn = backend.sum(backend.round(backend.clip(y_true - y_pred, 0, 1)), axis=1)\n",
    "\n",
    "  p = tp / (tp + fp + backend.epsilon())\n",
    "  r = tp / (tp + fn + backend.epsilon())\n",
    "  \n",
    "  bb = beta ** 2\n",
    "  fbeta_score = backend.mean((1 + bb) * (p * r) / (bb * p + r + backend.epsilon()))\n",
    "  return fbeta_score\n",
    "\n",
    "def precision(y_true, y_pred):\n",
    "\n",
    "  y_pred = backend.clip(y_pred, 0, 1)\n",
    "\n",
    "  tp = backend.sum(backend.round(backend.clip(y_true * y_pred, 0, 1)), axis=1)\n",
    "  fp = backend.sum(backend.round(backend.clip(y_pred - y_true, 0, 1)), axis=1)\n",
    "  fn = backend.sum(backend.round(backend.clip(y_true - y_pred, 0, 1)), axis=1)\n",
    "\n",
    "  p = tp / (tp + fp + backend.epsilon())\n",
    "  \n",
    "  precision_score = backend.mean(p)\n",
    "  return precision_score\n",
    "\n",
    "def recal(y_true, y_pred):\n",
    "\n",
    "  y_pred = backend.clip(y_pred, 0, 1)\n",
    "\n",
    "  tp = backend.sum(backend.round(backend.clip(y_true * y_pred, 0, 1)), axis=1)\n",
    "  fp = backend.sum(backend.round(backend.clip(y_pred - y_true, 0, 1)), axis=1)\n",
    "  fn = backend.sum(backend.round(backend.clip(y_true - y_pred, 0, 1)), axis=1)\n",
    "\n",
    "  r = tp / (tp + fn + backend.epsilon())\n",
    "\n",
    "  recal_score = backend.mean(r)\n",
    "  return recal_score"
   ]
  },
  {
   "cell_type": "markdown",
   "metadata": {},
   "source": [
    "## Loading Model"
   ]
  },
  {
   "cell_type": "code",
   "execution_count": null,
   "metadata": {},
   "outputs": [],
   "source": [
    "dependencies = {\n",
    "    'fbeta': fbeta, 'precision':precision, 'recal':recal\n",
    "}\n",
    "model = load_model('model_classifier.h5', custom_objects=dependencies)"
   ]
  },
  {
   "cell_type": "markdown",
   "metadata": {},
   "source": [
    "## Labeling Images"
   ]
  },
  {
   "cell_type": "code",
   "execution_count": null,
   "metadata": {},
   "outputs": [],
   "source": [
    "with open('image_labeling_info.json', 'r') as path:\n",
    "    json_image_info = json.load( path )\n",
    "\n",
    "labels = []\n",
    "for image_dict in json_image_info:\n",
    "    y_pred = inception_resnet_v2.preprocess_input( cv2.resize( cv2.imread( image_dict['file_name'] ), INPUT_SIZE ) )\n",
    "    y_pred = model.predict( np.expand_dims( y_pred, axis=0 ) )\n",
    "    y_pred = np.round( y_pred )\n",
    "    labels.append( onehot2features( np.array( y_pred )[0] ) )"
   ]
  },
  {
   "cell_type": "markdown",
   "metadata": {},
   "source": [
    "## Saving Labels"
   ]
  },
  {
   "cell_type": "code",
   "execution_count": null,
   "metadata": {},
   "outputs": [],
   "source": [
    "import pickle\n",
    "with open('labels.pkl','wb') as f:\n",
    "    pickle.dump( labels, f )"
   ]
  }
 ],
 "metadata": {
  "kernelspec": {
   "display_name": "Python 3",
   "language": "python",
   "name": "python3"
  },
  "language_info": {
   "codemirror_mode": {
    "name": "ipython",
    "version": 3
   },
   "file_extension": ".py",
   "mimetype": "text/x-python",
   "name": "python",
   "nbconvert_exporter": "python",
   "pygments_lexer": "ipython3",
   "version": "3.7.5"
  }
 },
 "nbformat": 4,
 "nbformat_minor": 2
}
